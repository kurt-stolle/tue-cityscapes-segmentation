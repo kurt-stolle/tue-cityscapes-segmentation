{
 "cells": [
  {
   "cell_type": "markdown",
   "source": [
    "# Dataset\n",
    "Download the dataset files and load it"
   ],
   "metadata": {
    "collapsed": false
   }
  },
  {
   "cell_type": "code",
   "execution_count": null,
   "outputs": [],
   "source": [
    "import os\n",
    "\n",
    "# Define where to search for the truths and inputs\n",
    "try:\n",
    "    import google.colab as colab\n",
    "\n",
    "    colab.drive.mount('/content/gdrive')\n",
    "\n",
    "    INPUT_DIR = \"/content/gdrive/Cityscapes/input\"\n",
    "    TRUTH_DIR = \"/content/gdrive/Cityscapes/gt_fine\"\n",
    "except:\n",
    "    INPUT_DIR = \"D:\\Cityscapes\\input\"\n",
    "    TRUTH_DIR = \"D:\\Cityscapes\\gt_fine\"\n",
    "\n",
    "\n",
    "# Download the files if needed\n",
    "if not os.stat(INPUT_DIR, follow_symlinks=True):\n",
    "    # Download the inputs\n",
    "    raise NotImplementedError\n",
    "\n",
    "if not os.stat(TRUTH_DIR, follow_symlinks=True):\n",
    "    # Download the truths\n",
    "    raise NotImplementedError\n",
    "\n",
    "# Define the Dataset class\n",
    "from .src import data\n",
    "\n",
    "dataset = data.Cityscapes(INPUT_DIR,TRUTH_DIR,scale=0.2)"
   ],
   "metadata": {
    "collapsed": false,
    "pycharm": {
     "name": "#%%\n"
    }
   }
  },
  {
   "cell_type": "markdown",
   "source": [
    "# Model\n",
    "Define the network"
   ],
   "metadata": {
    "collapsed": false
   }
  },
  {
   "cell_type": "code",
   "execution_count": null,
   "outputs": [],
   "source": [
    "import torch\n",
    "\n",
    "device = torch.device(\"cuda\" if torch.cuda.is_available() else \"gpu\")\n",
    "\n",
    "from .src import networks\n",
    "\n",
    "model = networks.UNet(3, len(dataset), bilinear=True)"
   ],
   "metadata": {
    "collapsed": false,
    "pycharm": {
     "name": "#%%\n"
    }
   }
  },
  {
   "cell_type": "markdown",
   "source": [
    "# Training\n",
    "Train the network"
   ],
   "metadata": {
    "collapsed": false
   }
  },
  {
   "cell_type": "code",
   "execution_count": null,
   "outputs": [],
   "source": [
    "from .src.train import train_net\n",
    "\n",
    "train_net(model, device, INPUT_DIR, TRUTH_DIR)\n"
   ],
   "metadata": {
    "collapsed": false,
    "pycharm": {
     "name": "#%%\n"
    }
   }
  }
 ],
 "metadata": {
  "kernelspec": {
   "display_name": "Python 3",
   "language": "python",
   "name": "python3"
  },
  "language_info": {
   "codemirror_mode": {
    "name": "ipython",
    "version": 2
   },
   "file_extension": ".py",
   "mimetype": "text/x-python",
   "name": "python",
   "nbconvert_exporter": "python",
   "pygments_lexer": "ipython2",
   "version": "2.7.6"
  }
 },
 "nbformat": 4,
 "nbformat_minor": 0
}